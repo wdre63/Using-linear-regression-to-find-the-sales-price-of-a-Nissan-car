{
 "cells": [
  {
   "cell_type": "markdown",
   "source": [
    "# <span style=\"color:silver ; font-size:35 ; font-family:Times New Roman\">WBAAC.com - NISSAN  | Final Function</span>\n",
    "<br />"
   ],
   "metadata": {
    "collapsed": false
   }
  },
  {
   "cell_type": "markdown",
   "source": [
    "<br /> <br />\n",
    "# <span style=\"color:silver ; font-family:Times New Roman\">Final Function Definition</span>\n",
    "<br />"
   ],
   "metadata": {
    "collapsed": false
   }
  },
  {
   "cell_type": "code",
   "execution_count": 48,
   "outputs": [],
   "source": [
    "### FUNCTION ###\n",
    "\n",
    "import datetime\n",
    "import numpy as np\n",
    "\n",
    "def nissan(make, model, year, write_off, mileage, transmission, BHP, fuel, owners, body, ULEZ, engine, condition):\n",
    "\n",
    "    b0 =  20260\n",
    "    b1l = 4009.6492\n",
    "    b1q = 2141.9950\n",
    "    b1n = 9134.3900\n",
    "    b1x = 4471.2884\n",
    "    b1m = -2339.8587\n",
    "    b2 =   -12480  ## -12480 is the coff for log(age)\n",
    "    b3 =  -7167.2752\n",
    "    b4 = -2048.9110\n",
    "    b5 = 412.1442\n",
    "\n",
    "## Ensuring types are correct\n",
    "    # year\n",
    "    try:\n",
    "        year = int(year)\n",
    "    except ValueError:\n",
    "        print(\"you must input an integer for year!\")\n",
    "\n",
    "    # mileage\n",
    "    try:\n",
    "        mileage = int(mileage)\n",
    "    except ValueError:\n",
    "        print(\"you must input an integer for mileage!\")\n",
    "\n",
    "    # model\n",
    "    if type(model) != str:\n",
    "        raise Exception(\"you must input a string!\")\n",
    "    # transmission\n",
    "    if type(transmission) != str:\n",
    "        raise Exception(\"you must input a string!\")\n",
    "\n",
    "    # making model, transmission, fuel, body, condition all lowercase\n",
    "    model = model.lower().strip()\n",
    "    transmission = transmission.lower().strip()\n",
    "    condition = condition.lower().strip()\n",
    "    ULEZ = ULEZ.lower().strip()\n",
    "    write_off = write_off.lower().strip()\n",
    "\n",
    "## dealing with input errors (only need to do this for values going into our model + write-off + condition\n",
    "    # model\n",
    "    lst_model = ['leaf','navara', 'juke' , 'qashqai' ,'x-trail' , 'micra']\n",
    "    if model  not in lst_model:\n",
    "        return Exception('Sorry, the only Nissan models we take are: juke, Leaf, Navara, Qashqai, X-trail or Micra')\n",
    "\n",
    "\n",
    "    # year\n",
    "    if year < 2007 or year > 2020:\n",
    "        raise Exception(\"The year must be between 2007 and 2020!\")\n",
    "\n",
    "    # mileage\n",
    "    if mileage >= 130000:\n",
    "        raise Exception (\"Too many miles, your cars not worth owt!\")\n",
    "\n",
    "    # transmission\n",
    "    if transmission not in ['automatic', 'manual']:\n",
    "        raise Exception(\"Sorry, we only take automatic or manual transmissions\")\n",
    "\n",
    "    #ULEZ\n",
    "    if ULEZ not in ['yes', 'no']:\n",
    "        raise Exception(\"ULEZ must be Yes or No!\")\n",
    "    if ULEZ == 'yes':\n",
    "        ULEZ = 1\n",
    "    else:\n",
    "        ULEZ = 0\n",
    "\n",
    "    # Condition\n",
    "    if condition not in ['no damage', 'moderate damage', 'heavy damage']:\n",
    "        raise Exception (\"Please input one of the three values for the condition of your vehicle: no damage, moderate damage or heavy damage\")\n",
    "\n",
    "    # write-off\n",
    "    if write_off not in ['yes', 'no']:\n",
    "        raise Exception(\"write_off must be Yes or No\")\n",
    "    if write_off == 'yes':\n",
    "        return \"We can't buy a written off car\"\n",
    "\n",
    "\n",
    "## inputting the x1 and b1 values for user model\n",
    "    if model == 'juke':\n",
    "        x1 = 0\n",
    "    else:\n",
    "        x1 = 1\n",
    "    if model == 'leaf':\n",
    "        b1 = b1l\n",
    "    elif model == 'qashqai':\n",
    "        b1 = b1q\n",
    "    elif model == 'navara':\n",
    "        b1 = b1n\n",
    "    elif model == 'x-trail':\n",
    "        b1 = b1x\n",
    "    else: # if micra\n",
    "        b1 = b1m\n",
    "\n",
    "## inputting the x4 and b4 values for user transmission\n",
    "    if transmission == 'manual':\n",
    "        x4 = 1\n",
    "    else:\n",
    "        x4 = 0\n",
    "\n",
    "    # Applying scaling to the user input values\n",
    "    mileage *= 0.000008\n",
    "    year = datetime.date.today().year - year  # as the model was trained using age\n",
    "    year = np.log(year)\n",
    "    year *= 0.496302\n",
    "\n",
    "\n",
    "    ### 1 = model, 2 = year, 3 =  mileage, 4= transmission, 5=  ULEZ ###\n",
    "    # using the results from our model to put into the line equation to estimate our offering price\n",
    "\n",
    "    y = b0 + x1*b1 + year*b2 + mileage*b3 + x4*b4 +  ULEZ+b5\n",
    "\n",
    "    if condition == 'no damage':\n",
    "        y = y * 0.8\n",
    "    elif condition == 'moderate damage':\n",
    "        y = y * 0.5\n",
    "    else:\n",
    "        y = y * 0.3\n",
    "    y = round(y,2)\n",
    "    if y >= 0:\n",
    "        return f'We will give you £{y} for your car'\n",
    "    else:\n",
    "        return \"Sorry, I can't make a profit on that!\"\n",
    "\n",
    "#(make, model, year, write_off, mileage, transmission, BHP, fuel, owners, body, ULEZ, engine, condition):"
   ],
   "metadata": {
    "collapsed": false
   }
  },
  {
   "cell_type": "markdown",
   "source": [
    "\n",
    "# <span style=\"color:silver ; font-size:25 ; font-family:Times New Roman\">User Input and Function Output</span>\n",
    "<br />"
   ],
   "metadata": {
    "collapsed": false
   }
  },
  {
   "cell_type": "code",
   "execution_count": 49,
   "outputs": [],
   "source": [
    "make = input('Enter the make of your car:')\n",
    "model = input('Enter the model of your car:')\n",
    "year = input('What year was your car made?:')\n",
    "write_off = input('Is your car written off? [yes / no]')\n",
    "mileage = input('How many miles has your car done?:')\n",
    "transmission = input('Is your car manual or automatic:')\n",
    "BHP = input('What is the brake horsepower of your car?')\n",
    "fuel = input('Is your car petrol, diesel or electric?')\n",
    "owners = input('How many owners has your car had?')\n",
    "body = input('Is your car an SUV, a Hatchback, a Pickup, an Estate, or an MPV?')\n",
    "ULEZ = input('Does your car meet the ULEZ emissions standard? [yes / no]')\n",
    "engine = input('What is the size of the engine of your car?')\n",
    "condition = input('What condition is your car in? [no damage, moderate damage, heavy damage]')"
   ],
   "metadata": {
    "collapsed": false
   }
  },
  {
   "cell_type": "code",
   "execution_count": 50,
   "outputs": [
    {
     "data": {
      "text/plain": "'We will give you £17484.91 for your car'"
     },
     "execution_count": 50,
     "metadata": {},
     "output_type": "execute_result"
    }
   ],
   "source": [
    "nissan(make, model, year, write_off, mileage, transmission, BHP, fuel, owners, body, ULEZ, engine, condition)"
   ],
   "metadata": {
    "collapsed": false
   }
  },
  {
   "cell_type": "code",
   "execution_count": 50,
   "outputs": [],
   "source": [],
   "metadata": {
    "collapsed": false
   }
  }
 ],
 "metadata": {
  "kernelspec": {
   "display_name": "Python 3",
   "language": "python",
   "name": "python3"
  },
  "language_info": {
   "codemirror_mode": {
    "name": "ipython",
    "version": 2
   },
   "file_extension": ".py",
   "mimetype": "text/x-python",
   "name": "python",
   "nbconvert_exporter": "python",
   "pygments_lexer": "ipython2",
   "version": "2.7.6"
  }
 },
 "nbformat": 4,
 "nbformat_minor": 0
}
